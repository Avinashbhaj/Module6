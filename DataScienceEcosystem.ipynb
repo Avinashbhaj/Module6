{
 "cells": [
  {
   "cell_type": "code",
   "execution_count": 1,
   "id": "fc5aa1f7-5fb8-4305-b59c-9d51a5e384e4",
   "metadata": {},
   "outputs": [],
   "source": [
    "import pandas as pd"
   ]
  },
  {
   "cell_type": "code",
   "execution_count": 2,
   "id": "812e511b-8252-4bbc-b012-be3e1cd7ccbe",
   "metadata": {},
   "outputs": [],
   "source": [
    "## <H1>Data Science Tools and Ecosystem</H1>"
   ]
  },
  {
   "cell_type": "code",
   "execution_count": 3,
   "id": "97146c1c-5cc3-4cbb-9175-f5103406e4b1",
   "metadata": {},
   "outputs": [],
   "source": [
    "## <H1>In this Notbook Data Science Tools and Ecosystem</H1>"
   ]
  },
  {
   "cell_type": "code",
   "execution_count": 4,
   "id": "811f4ab5-e712-4e3c-ab5c-5943979206ee",
   "metadata": {},
   "outputs": [],
   "source": [
    "## <H2>Data Science Tools and Ecosystem are summarized.</H2>"
   ]
  },
  {
   "cell_type": "code",
   "execution_count": 5,
   "id": "d1277a3a-666e-4c72-bc2f-3266f7b6a749",
   "metadata": {},
   "outputs": [],
   "source": [
    "## <H1>Data Science Tools and Ecosystem</H1>"
   ]
  },
  {
   "cell_type": "code",
   "execution_count": 6,
   "id": "76da30f0-ba08-4f1a-b7d7-0cd9fd08d9e3",
   "metadata": {},
   "outputs": [],
   "source": [
    "## Exercise 4\n",
    "## Some of the popular languages that Data Scientists use are:\n",
    "## Order List\n",
    "list1=[10,20]\n",
    "list2=[22,44]\n",
    "list3=list1+list2"
   ]
  },
  {
   "cell_type": "code",
   "execution_count": 7,
   "id": "707a946e-1806-4dcf-a142-604152af5927",
   "metadata": {},
   "outputs": [],
   "source": [
    "## Exercise 5\n",
    "## Some of the common libraries used by Data Scientists include:\n",
    "import pandas as pd\n",
    "import numpy as np\n",
    "import random as ran\n",
    "\n"
   ]
  },
  {
   "cell_type": "code",
   "execution_count": 9,
   "id": "4f57ec00-5c1f-4281-a2d5-2b6c539ca916",
   "metadata": {},
   "outputs": [
    {
     "data": {
      "text/plain": [
       "50"
      ]
     },
     "execution_count": 9,
     "metadata": {},
     "output_type": "execute_result"
    }
   ],
   "source": [
    "## Example 7\n",
    "## Below are a few examples of evaluating expressions in Python.\n",
    "x=5\n",
    "y=10\n",
    "z=x*y\n",
    "z"
   ]
  },
  {
   "cell_type": "code",
   "execution_count": 10,
   "id": "adcc4d52-b5cf-4d86-ba26-1c2c6bde1c6e",
   "metadata": {},
   "outputs": [
    {
     "data": {
      "text/plain": [
       "65"
      ]
     },
     "execution_count": 10,
     "metadata": {},
     "output_type": "execute_result"
    }
   ],
   "source": [
    "## Example 8\n",
    "## Below are a few examples of evaluating expressions in Python.\n",
    "a=5\n",
    "b=10\n",
    "c=15\n",
    "d=(a*b)+c\n",
    "d"
   ]
  },
  {
   "cell_type": "code",
   "execution_count": 11,
   "id": "fc3ff40f-0372-475d-8e28-25adf456f9b8",
   "metadata": {},
   "outputs": [
    {
     "name": "stdout",
     "output_type": "stream",
     "text": [
      "Hour after conversion: 3.3333333333333335\n"
     ]
    }
   ],
   "source": [
    "## Example 9\n",
    "## Convert Minutes to Hour\n",
    "min=200\n",
    "convert=min/60\n",
    "print(\"Hour after conversion:\",convert)"
   ]
  },
  {
   "cell_type": "code",
   "execution_count": 12,
   "id": "03b9f1e7-e96d-40d8-87c4-63fa127ab19c",
   "metadata": {},
   "outputs": [],
   "source": [
    "##<b>Objectives</b>"
   ]
  },
  {
   "cell_type": "code",
   "execution_count": 13,
   "id": "426ca769-7991-4391-a423-38ab86c849ff",
   "metadata": {},
   "outputs": [
    {
     "name": "stdout",
     "output_type": "stream",
     "text": [
      "[1 2 3 4 5 6]\n",
      "[10 20 30 40]\n"
     ]
    }
   ],
   "source": [
    "## Example 10\n",
    "import numpy as np\n",
    "li=[1,2,3,4,5,6]\n",
    "n1=np.array([1,2,3,4,5,6])\n",
    "n2=np.array([10,20,30,40])\n",
    "print(n1)\n",
    "print(n2)"
   ]
  },
  {
   "cell_type": "code",
   "execution_count": 14,
   "id": "d8acdab9-509d-4fea-ae4e-ab737193f32a",
   "metadata": {},
   "outputs": [],
   "source": [
    "## <h2>Author</h2>\n",
    "## Avinash Bhardwaj"
   ]
  }
 ],
 "metadata": {
  "kernelspec": {
   "display_name": "Python 3 (ipykernel)",
   "language": "python",
   "name": "python3"
  },
  "language_info": {
   "codemirror_mode": {
    "name": "ipython",
    "version": 3
   },
   "file_extension": ".py",
   "mimetype": "text/x-python",
   "name": "python",
   "nbconvert_exporter": "python",
   "pygments_lexer": "ipython3",
   "version": "3.11.7"
  }
 },
 "nbformat": 4,
 "nbformat_minor": 5
}
